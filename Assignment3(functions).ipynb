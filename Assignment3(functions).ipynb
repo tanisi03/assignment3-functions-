{
  "nbformat": 4,
  "nbformat_minor": 0,
  "metadata": {
    "colab": {
      "provenance": []
    },
    "kernelspec": {
      "name": "python3",
      "display_name": "Python 3"
    },
    "language_info": {
      "name": "python"
    }
  },
  "cells": [
    {
      "cell_type": "code",
      "execution_count": null,
      "metadata": {
        "id": "TlNJNMQrrLt4"
      },
      "outputs": [],
      "source": [
        "#Assignment 3"
      ]
    },
    {
      "cell_type": "markdown",
      "source": [
        "Practical Questions :"
      ],
      "metadata": {
        "id": "eU2JS2xfrZK0"
      }
    },
    {
      "cell_type": "code",
      "source": [
        "#Q1 Write a python function that takes a list of numbers as input and return the sum of all even numbers in the list\n",
        "\n",
        "def sum_of_even_numbers(numbers):\n",
        "  sum_even = 0\n",
        "  for num in numbers:\n",
        "    if num % 2 == 0:\n",
        "      sum_even += num\n",
        "      return sum_even\n",
        "\n",
        "#example of how to use the function:\n",
        "\n",
        "numbers_list = [1,2,3,4,5,6]\n",
        "result = sum_of_even_numbers(numbers_list)\n",
        "print(result)"
      ],
      "metadata": {
        "colab": {
          "base_uri": "https://localhost:8080/"
        },
        "id": "9BjfPVXSrf2i",
        "outputId": "d6e33e72-5f3d-4f88-f853-c2443d148228"
      },
      "execution_count": null,
      "outputs": [
        {
          "output_type": "stream",
          "name": "stdout",
          "text": [
            "2\n"
          ]
        }
      ]
    },
    {
      "cell_type": "code",
      "source": [
        "#Q2 Create a python function that aceept a string and returns the reverse of that string\n",
        "\n",
        "def reverse_string(input_string):\n",
        "  return input_string[::-1]\n",
        "\n",
        "#example of how to use the function:\n",
        "\n",
        "input_str = \"hello\"\n",
        "reversed_str = reverse_string(input_str)\n",
        "print(reversed_str)"
      ],
      "metadata": {
        "colab": {
          "base_uri": "https://localhost:8080/"
        },
        "id": "CW9rVJ6muNfy",
        "outputId": "71fd3366-b234-4c01-d738-863398ba2f8a"
      },
      "execution_count": null,
      "outputs": [
        {
          "output_type": "stream",
          "name": "stdout",
          "text": [
            "olleh\n"
          ]
        }
      ]
    },
    {
      "cell_type": "code",
      "source": [
        "#Q3 Implement a python function that takes a list of integer and returns a new list containing the square of each number\n",
        "\n",
        "def square_numbers(numbers):\n",
        "  squared_list = [num**2 for num in numbers]\n",
        "  return squared_list\n",
        "\n",
        "#example of how to use the function:\n",
        "\n",
        "numbers_list = [1,2,3,4,5]\n",
        "squared_numbers = square_numbers(numbers_list)\n",
        "print(squared_numbers)"
      ],
      "metadata": {
        "colab": {
          "base_uri": "https://localhost:8080/"
        },
        "id": "8v0s3IWiwlcn",
        "outputId": "a586fef4-509c-4aa0-d89c-2311d52abc50"
      },
      "execution_count": null,
      "outputs": [
        {
          "output_type": "stream",
          "name": "stdout",
          "text": [
            "[1, 4, 9, 16, 25]\n"
          ]
        }
      ]
    },
    {
      "cell_type": "code",
      "source": [
        "#Q4 Write a python function that checks if a given number is prime or not from 1 to 200\n",
        "\n",
        "def is_prime(number):\n",
        "  if number < 2:\n",
        "    return False\n",
        "    for i in range(2,int(number**0.5)+1):\n",
        "      if number %i == 0:\n",
        "                   return False\n",
        "                   return True\n",
        "\n",
        "#check if a number is prime within the range of 1 to 200\n",
        "\n",
        "given_number = 47\n",
        "if is_prime(given_number):\n",
        "  print(f\"{given_number} is a prime number.\")\n",
        "else:\n",
        "  print(f\"{given_number} is not a prime number.\")"
      ],
      "metadata": {
        "colab": {
          "base_uri": "https://localhost:8080/"
        },
        "id": "l5Q4arwIzEt6",
        "outputId": "c18866c9-edc6-41eb-a445-10317ea8c463"
      },
      "execution_count": null,
      "outputs": [
        {
          "output_type": "stream",
          "name": "stdout",
          "text": [
            "47 is not a prime number.\n"
          ]
        }
      ]
    },
    {
      "cell_type": "code",
      "source": [
        " #Q5 Create an iterator class in python that generates the fibonacci sequence up to a specified number of terms\n",
        "\n",
        "class FibonacciIterator:\n",
        "    def __init__(self, max_terms):\n",
        "        self.max_terms = max_terms\n",
        "        self.a = 0\n",
        "        self.b = 1\n",
        "        self.count = 0\n",
        "\n",
        "    def __iter__(self):\n",
        "        return self\n",
        "\n",
        "    def __next__(self):\n",
        "        if self.count >= self.max_terms:\n",
        "            raise StopIteration\n",
        "        current_term = self.a\n",
        "        self.a, self.b = self.b, self.a + self.b\n",
        "        self.count += 1\n",
        "        return current_term\n",
        "\n",
        "\n",
        "# Example usage\n",
        "max_terms = 10  # Specify the number of Fibonacci terms you want\n",
        "fib_iterator = FibonacciIterator(max_terms)\n",
        "for term in fib_iterator:\n",
        "    print(term)\n",
        "\n"
      ],
      "metadata": {
        "colab": {
          "base_uri": "https://localhost:8080/"
        },
        "id": "EiF00AaGAE8Q",
        "outputId": "584cb9a9-68bb-4ed2-ae47-eafb89d606f4"
      },
      "execution_count": null,
      "outputs": [
        {
          "output_type": "stream",
          "name": "stdout",
          "text": [
            "0\n",
            "1\n",
            "1\n",
            "2\n",
            "3\n",
            "5\n",
            "8\n",
            "13\n",
            "21\n",
            "34\n"
          ]
        }
      ]
    },
    {
      "cell_type": "code",
      "source": [
        "#Q6 Write a generator function in python that yield the power of 2 up to a given exponent\n",
        "\n",
        "def power_of_2_generator(exponent):\n",
        "  for i in range(exponent + 1):\n",
        "    yield 2**i\n",
        "\n",
        "#example of how to use the generator function:\n",
        "\n",
        "exponent = 5\n",
        "for power in power_of_2_generator(exponent):\n",
        "  print(power)"
      ],
      "metadata": {
        "colab": {
          "base_uri": "https://localhost:8080/"
        },
        "id": "UJkTA3F96SYf",
        "outputId": "184fb7b0-4976-4d61-efae-a80e876502da"
      },
      "execution_count": null,
      "outputs": [
        {
          "output_type": "stream",
          "name": "stdout",
          "text": [
            "1\n",
            "2\n",
            "4\n",
            "8\n",
            "16\n",
            "32\n"
          ]
        }
      ]
    },
    {
      "cell_type": "code",
      "source": [
        "#Q7 Implement a genarator function that reads a file line by line and yields each line as a string\n",
        "\n",
        "def file_reader_generator(file_path):\n",
        "  \"\"\"\n",
        "  Generator function that reads a file line by line and yields each line as a string.\n",
        "\n",
        "  args:\n",
        "    file_path: The path to the file to read.\n",
        "\n",
        "  yields:\n",
        "    Each line of the file as a string.\n",
        "  \"\"\"\n",
        "  try:\n",
        "    with open(file_path, 'r') as file:\n",
        "      for line in file:\n",
        "        yield line.strip()  # Strip to remove newline characters\n",
        "  except FileNotFoundError:\n",
        "    print(f\"Error: File not found at path: {file_path}\")\n"
      ],
      "metadata": {
        "id": "j7dVy5_vAZjV"
      },
      "execution_count": null,
      "outputs": []
    },
    {
      "cell_type": "code",
      "source": [
        "#Q8 Use a lambda function in python to sort a list of tuples based on the second element of each tuple\n",
        "\n",
        "#list of tuples\n",
        "list_of_tuples = [(3,8),(1,5),(2,7),(4,6)]\n",
        "\n",
        "#sort the list of tuples based on the second element of each tuple\n",
        "sorted_list = sorted(list_of_tuples, key=lambda x: x[1])\n",
        "print(sorted_list)"
      ],
      "metadata": {
        "colab": {
          "base_uri": "https://localhost:8080/"
        },
        "id": "op0-HvFkDVbF",
        "outputId": "100aa896-1c34-48b3-e8ee-ee774b6bf42e"
      },
      "execution_count": null,
      "outputs": [
        {
          "output_type": "stream",
          "name": "stdout",
          "text": [
            "[(1, 5), (4, 6), (2, 7), (3, 8)]\n"
          ]
        }
      ]
    },
    {
      "cell_type": "code",
      "source": [
        "#Q9 Write a python program that uses `map()` to convert a list of temperature from celsius to fahrenheit\n",
        "\n",
        "#list of temperature in celsius\n",
        "celsius_temperature = [0,10,20,30,40]\n",
        "\n",
        "#function to convert celsius to fahrenheit\n",
        "def celsius_to_fahrenheit(celsius):\n",
        "  return (celsius * 9/5) + 32\n",
        "\n",
        "#use map()to apply the conversion function to each temperature in the list\n",
        "fahrenheit_temperature = list(map(celsius_to_fahrenheit, celsius_temperature))\n",
        "print(fahrenheit_temperature)\n"
      ],
      "metadata": {
        "colab": {
          "base_uri": "https://localhost:8080/"
        },
        "id": "TG6Pn3OXFviD",
        "outputId": "16497921-4712-4728-cc38-d0011df102d8"
      },
      "execution_count": null,
      "outputs": [
        {
          "output_type": "stream",
          "name": "stdout",
          "text": [
            "[32.0, 50.0, 68.0, 86.0, 104.0]\n"
          ]
        }
      ]
    },
    {
      "cell_type": "code",
      "source": [
        "#Q10 Create a python program that uses `filter()` to remove all the vowels from a given string\n",
        "\n",
        "#function to filter out vowels\n",
        "def remove_vowels(char):\n",
        "  vowels = ['a','e','i','o','u','A','E','I','O','U']\n",
        "  return char not in vowels\n",
        "\n",
        "#given string\n",
        "input_string = \"Hello, World!\"\n",
        "\n",
        "#use filter()to remove vowels from the string\n",
        "filtered_string = ''.join(filter(remove_vowels, input_string))\n",
        "print(filtered_string)"
      ],
      "metadata": {
        "colab": {
          "base_uri": "https://localhost:8080/"
        },
        "id": "4PF1moocJNzr",
        "outputId": "7a2666d2-3c2b-4b26-8b31-9a592416fdbb"
      },
      "execution_count": null,
      "outputs": [
        {
          "output_type": "stream",
          "name": "stdout",
          "text": [
            "Hll, Wrld!\n"
          ]
        }
      ]
    },
    {
      "cell_type": "code",
      "source": [
        "#Q11 Imagine an accounting routine used in a book shop.it works on a list with sublists,which lool like this:\n",
        "\n",
        "\n",
        "\n",
        "#order number        Book title and author         quantity       price per item\n",
        "#34587             learnining python, mark lutz       4             40.95\n",
        "#98762           programming python, mark lutz        5             56.80\n",
        "#77226           head first python, paul barry        3             32.95\n",
        "#88112          einfiihrung in python3,bernd klein    3             24.99\n",
        "\n",
        "#write a python program,which returns a list with 2-tuples.each tuple consists of the order number and the product of the price per item and the quantity.the product should be increased by 10,- if the value of theorder is smaller than 100,00\n"
      ],
      "metadata": {
        "id": "2EObyglZLVjy"
      },
      "execution_count": null,
      "outputs": []
    },
    {
      "cell_type": "code",
      "source": [
        "#example of lambda and map of this table\n",
        "#order number        Book title and author         quantity       price per item\n",
        "#34587             learnining python, mark lutz       4             40.95\n",
        "#98762           programming python, mark lutz        5             56.80\n",
        "#77226           head first python, paul barry        3             32.95\n",
        "#88112          einfiihrung in python3,bernd klein    3             24.99\n",
        "\n",
        "#example\n",
        "orders = [ \"34587\",\"learnining python, mark lutz\",\"4\",\"40.95\"],[ \"98762\",\"programming python, mark lutz\",\"5\",\"56.80\"],[ \"77226\",\"head first python, paul barry\",\"3\",\"32.95\"],[\"88112\",\"einfiihrung in python3,bernd klein\",\"3\",\"24.99\"]\n",
        "\n",
        "min_order_total = 100.00\n",
        "\n",
        "result = []\n",
        "\n",
        "for order in orders:\n",
        "  order_number = order[0]\n",
        "  quantity = int(order[2])\n",
        "  price_per_item = float(order[3])\n",
        "\n",
        "  subtotal = quantity * price_per_item\n",
        "\n",
        "  if subtotal < min_order_total:\n",
        "    subtotal += 10\n",
        "\n",
        "  result.append((order_number, subtotal))\n",
        "\n",
        "print(result)\n",
        "\n"
      ],
      "metadata": {
        "colab": {
          "base_uri": "https://localhost:8080/"
        },
        "id": "2NgTZ6A_766f",
        "outputId": "f65b624b-13ee-447b-bbb3-eb3f99ef4f31"
      },
      "execution_count": null,
      "outputs": [
        {
          "output_type": "stream",
          "name": "stdout",
          "text": [
            "[('34587', 163.8), ('98762', 284.0), ('77226', 108.85000000000001), ('88112', 84.97)]\n"
          ]
        }
      ]
    },
    {
      "cell_type": "markdown",
      "source": [
        "Theory Questions"
      ],
      "metadata": {
        "id": "fbofnkAQl3DF"
      }
    },
    {
      "cell_type": "code",
      "source": [
        "#Q1. What is the difference between a function and a method in Python?\n",
        "\n",
        "#Function:A function is a structured, reusable code block utilized for carrying out a specific task. Functions facilitate the creation of modular code, simplifying maintenance and reusability.\n",
        "#method: a method is a function that belongs to an object or a class.methods defined within a class definition and can only be called on instances of that class or the class itself.when a method is called it implie passes the self as the first argument\n",
        "\n"
      ],
      "metadata": {
        "id": "jnMeC1lUmOp8"
      },
      "execution_count": null,
      "outputs": []
    },
    {
      "cell_type": "code",
      "source": [
        "#method example\n",
        "class Dog:\n",
        "  def bark(self):\n",
        "    return \"Woof!\"\n",
        "\n",
        "my_dog = Dog()\n",
        "result = my_dog.bark()\n",
        "print(result)\n",
        "\n",
        "\n",
        "\n",
        "\n"
      ],
      "metadata": {
        "colab": {
          "base_uri": "https://localhost:8080/"
        },
        "id": "7g13kNi7nrNj",
        "outputId": "7476951b-7b2e-4af4-c28b-19deabb53f13"
      },
      "execution_count": null,
      "outputs": [
        {
          "output_type": "stream",
          "name": "stdout",
          "text": [
            "Woof!\n"
          ]
        }
      ]
    },
    {
      "cell_type": "code",
      "source": [
        "#function example\n",
        "def add(a,b):\n",
        "  return a+b\n",
        "\n",
        "result = add(3,5)\n",
        "print(result)"
      ],
      "metadata": {
        "colab": {
          "base_uri": "https://localhost:8080/"
        },
        "id": "b24jP1vyor1V",
        "outputId": "788c0f7a-8617-47f9-e2a4-dfc745177701"
      },
      "execution_count": null,
      "outputs": [
        {
          "output_type": "stream",
          "name": "stdout",
          "text": [
            "8\n"
          ]
        }
      ]
    },
    {
      "cell_type": "code",
      "source": [
        "#Q2. Explain the concept of function arguments and parameters in Python.\n",
        "\n",
        "#parameters: are placeholders in the function definition that define the input the function expects.\n",
        "#arguments: on the other hand , are the actual values that are passed to the function when it is called"
      ],
      "metadata": {
        "id": "nIZ-4zhxowSC"
      },
      "execution_count": null,
      "outputs": []
    },
    {
      "cell_type": "code",
      "source": [
        "#function definition with parameters\n",
        "def greet (name):\n",
        "  return f\"Hello, {name}!\"\n",
        "\n",
        "#function call with argument\n",
        "result = greet(\"Alice\")\n",
        "print(result)\n"
      ],
      "metadata": {
        "colab": {
          "base_uri": "https://localhost:8080/"
        },
        "id": "CRTU3zByr6q-",
        "outputId": "96cf08c2-4a0d-4d12-c4b7-2050a184d6b7"
      },
      "execution_count": null,
      "outputs": [
        {
          "output_type": "stream",
          "name": "stdout",
          "text": [
            "Hello, Alice!\n"
          ]
        }
      ]
    },
    {
      "cell_type": "code",
      "source": [
        "#Q3. What are the different ways to define and call a function in Python?\n",
        "\n",
        "#you can define functions using the `def` keywords,lambda functions, and even within classes as well"
      ],
      "metadata": {
        "id": "rHjTdG8zsb38"
      },
      "execution_count": null,
      "outputs": []
    },
    {
      "cell_type": "code",
      "source": [
        "#example of `def` function\n",
        "def add(a,b):\n",
        "  return a+b\n",
        "\n",
        "result = add(3,5)\n",
        "print(result)"
      ],
      "metadata": {
        "colab": {
          "base_uri": "https://localhost:8080/"
        },
        "id": "7IZ4XEhmt6R0",
        "outputId": "996ea1d1-6420-4973-ada5-35e461b3b6ff"
      },
      "execution_count": null,
      "outputs": [
        {
          "output_type": "stream",
          "name": "stdout",
          "text": [
            "8\n"
          ]
        }
      ]
    },
    {
      "cell_type": "code",
      "source": [
        "#example lambda function\n",
        "multiply = lambda x,y: x*y\n",
        "\n",
        "result = multiply(4,6)\n",
        "print(result)\n"
      ],
      "metadata": {
        "colab": {
          "base_uri": "https://localhost:8080/"
        },
        "id": "ki58wuHGt_1C",
        "outputId": "f8708caa-f0be-43f0-ad08-dc9e4b5226a0"
      },
      "execution_count": null,
      "outputs": [
        {
          "output_type": "stream",
          "name": "stdout",
          "text": [
            "24\n"
          ]
        }
      ]
    },
    {
      "cell_type": "code",
      "source": [
        "#example class method\n",
        "class Calculator:\n",
        "  def multiply(self,x,y):\n",
        "    return x*y\n",
        "\n",
        "calc = Calculator()\n",
        "result = calc.multiply(4,6)\n",
        "print(result)"
      ],
      "metadata": {
        "colab": {
          "base_uri": "https://localhost:8080/"
        },
        "id": "clXkQArtuM74",
        "outputId": "4bc81716-2dcd-459d-e440-c396748171af"
      },
      "execution_count": null,
      "outputs": [
        {
          "output_type": "stream",
          "name": "stdout",
          "text": [
            "24\n"
          ]
        }
      ]
    },
    {
      "cell_type": "code",
      "source": [
        "#Q4. What is the purpose of the `return` statement in a Python function?\n",
        "\n",
        "#Return Statement: Determines the value that the function will return. If not included, the function defaults to returning None."
      ],
      "metadata": {
        "id": "q5V-crqQuVyU"
      },
      "execution_count": null,
      "outputs": []
    },
    {
      "cell_type": "code",
      "source": [
        "#example: use of 'return' statement\n",
        "def add(a,b):\n",
        "  return a+b\n",
        "\n",
        "result = add(3,5)\n",
        "print(result)"
      ],
      "metadata": {
        "colab": {
          "base_uri": "https://localhost:8080/"
        },
        "id": "1fWUjwiNuw3r",
        "outputId": "1bc3f3e5-f3f2-44ed-9ff7-c5687ace9c2c"
      },
      "execution_count": null,
      "outputs": [
        {
          "output_type": "stream",
          "name": "stdout",
          "text": [
            "8\n"
          ]
        }
      ]
    },
    {
      "cell_type": "code",
      "source": [
        "#Q5. What are iterators in Python and how do they differ from iterables?\n",
        "\n",
        "#Definition: An iterator is an object that allows traversal through a countable number of values. It is used to iterate over iterable objects like lists, tuples, sets, etc\n",
        "#iter() function is used to create an iterator containing an iterable object.\n"
      ],
      "metadata": {
        "id": "3wqJhLXzu_gN"
      },
      "execution_count": null,
      "outputs": []
    },
    {
      "cell_type": "code",
      "source": [
        "#example\n",
        "my_list = [1,2,3,4,5]\n",
        "#my_list is an iterable\n",
        "for item in my_list:\n",
        "  print(item)\n",
        "\n",
        "#convert the iterable into an iterate\n",
        "my_iter = iter(my_list)\n",
        "#my_iter is an iterator\n",
        "print(next(my_iter)) #output 1\n",
        "print(next(my_iter)) #output 2\n",
        "\n"
      ],
      "metadata": {
        "colab": {
          "base_uri": "https://localhost:8080/"
        },
        "id": "mOElxg1gwC-H",
        "outputId": "877a295a-f649-419f-d623-c7e08d5d297b"
      },
      "execution_count": null,
      "outputs": [
        {
          "output_type": "stream",
          "name": "stdout",
          "text": [
            "1\n",
            "2\n",
            "3\n",
            "4\n",
            "5\n",
            "1\n",
            "2\n"
          ]
        }
      ]
    },
    {
      "cell_type": "code",
      "source": [
        "#Q6. Explain the concept of generators in Python and how they are defined.\n",
        "\n",
        "#Definition: Generators are a simple way to create iterators using functions and the yield keyword instead of returning values.\n",
        "#yield Keyword:Yield vs Return: Unlike the return statement, which exits the function, yield returns a value and pauses the function’s state, allowing it to resume from where it left off.\n",
        "#Multiple Yields: Functions can yield multiple values over time, producing a sequence of results.\n",
        "\n"
      ],
      "metadata": {
        "id": "DMGBLLe5w9ib"
      },
      "execution_count": null,
      "outputs": []
    },
    {
      "cell_type": "code",
      "source": [
        "#example of yeild\n",
        "def countdown(n):\n",
        "  while n > 0:\n",
        "    yield n\n",
        "    n -= 1\n",
        "\n",
        "for i in countdown(5):\n",
        "  print(i)"
      ],
      "metadata": {
        "colab": {
          "base_uri": "https://localhost:8080/"
        },
        "id": "ewVupBWPy3Jb",
        "outputId": "54b91836-ef8a-4d9f-cf4f-df7ae5ac93c1"
      },
      "execution_count": null,
      "outputs": [
        {
          "output_type": "stream",
          "name": "stdout",
          "text": [
            "5\n",
            "4\n",
            "3\n",
            "2\n",
            "1\n"
          ]
        }
      ]
    },
    {
      "cell_type": "code",
      "source": [
        "#example of multiple yields\n",
        "def multiple_yields():\n",
        "  yield 1\n",
        "  yield 2\n",
        "  yield 3\n",
        "\n",
        "for i in multiple_yields():\n",
        "  print(i)\n"
      ],
      "metadata": {
        "colab": {
          "base_uri": "https://localhost:8080/"
        },
        "id": "Q-l9Pz9ey8fc",
        "outputId": "3d7a9f4c-48bf-4f3a-af09-96ffb464ae41"
      },
      "execution_count": null,
      "outputs": [
        {
          "output_type": "stream",
          "name": "stdout",
          "text": [
            "1\n",
            "2\n",
            "3\n"
          ]
        }
      ]
    },
    {
      "cell_type": "code",
      "source": [
        "#Q7. What are the advantages of using generators over regular functions?\n",
        "\n",
        "#Lazy Evaluation:\n",
        "#On-Demand Data: Generators produce values one at a time and only when required, avoiding the need to generate or store all values upfront.\n",
        "#Memory Efficiency: Since values are generated as needed and not all at once, generators use minimal memory.\n",
        "#Efficient Memory Usage: Generators do not store the entire sequence in memory, making them suitable for large datasets or infinite sequences.\n",
        "#Simpler Syntax: Using yield simplifies the creation of iterators, making the code more concise and readable.\n"
      ],
      "metadata": {
        "id": "EFagdIyrzQhF"
      },
      "execution_count": null,
      "outputs": []
    },
    {
      "cell_type": "code",
      "source": [
        "#Q8. What is a lambda function in Python and when is it typically used?\n",
        "\n",
        "#Definition: Lambda functions are small, anonymous functions defined using the lambda keyword. They are used for creating small, throwaway functions without the need to formally define a function using def\n",
        "\n",
        "#example\n",
        "add = lambda x,y: x+y\n",
        "result = add(3,5)\n",
        "print(result)"
      ],
      "metadata": {
        "colab": {
          "base_uri": "https://localhost:8080/"
        },
        "id": "dqeGte1k2pW6",
        "outputId": "14cc8b5a-83d7-4720-b674-5c4609e5a48f"
      },
      "execution_count": null,
      "outputs": [
        {
          "output_type": "stream",
          "name": "stdout",
          "text": [
            "8\n"
          ]
        }
      ]
    },
    {
      "cell_type": "code",
      "source": [
        "#Q9. Explain the purpose and usage of the `map()` function in Python.\n",
        "\n",
        "#Definition: The map function applies a given function to all items in an input iterable (like a list) and returns an iterator with the results.\n",
        "\n",
        "#example\n",
        "numbers = [1,2,3,4,5]\n",
        "squared = map(lambda x: x**2, numbers)\n",
        "print(list(squared))"
      ],
      "metadata": {
        "colab": {
          "base_uri": "https://localhost:8080/"
        },
        "id": "sD-zFG7j3T-v",
        "outputId": "87e217ec-4dff-4306-bc3a-98e59e1f1cb9"
      },
      "execution_count": null,
      "outputs": [
        {
          "output_type": "stream",
          "name": "stdout",
          "text": [
            "[1, 4, 9, 16, 25]\n"
          ]
        }
      ]
    },
    {
      "cell_type": "code",
      "source": [
        "#Q10. What is the difference between `map()`, `reduce()`, and `filter()` functions in Python?\n",
        "\n",
        "#Map function :The map function applies a given function to all items in an input iterable (like a list) and returns an iterator with the results.\n",
        "#Reduce function : The reduce function from the functools module applies a given function cumulatively to the items of a sequence, from left to right, to reduce the sequence to a single value.\n",
        "#Filter function: The filter function constructs an iterator from elements of an iterable for which a specified function returns True.\n"
      ],
      "metadata": {
        "id": "2GgK2F-K3kDl"
      },
      "execution_count": null,
      "outputs": []
    },
    {
      "cell_type": "code",
      "source": [
        "#example of map function\n",
        "numbers = [1,2,3,4,5]\n",
        "squared = map(lambda x: x**2, numbers)\n",
        "print(list(squared))"
      ],
      "metadata": {
        "colab": {
          "base_uri": "https://localhost:8080/"
        },
        "id": "jv6fiFRN4Ifv",
        "outputId": "f11506c4-18d2-4d32-cd1e-b82e306da945"
      },
      "execution_count": null,
      "outputs": [
        {
          "output_type": "stream",
          "name": "stdout",
          "text": [
            "[1, 4, 9, 16, 25]\n"
          ]
        }
      ]
    },
    {
      "cell_type": "code",
      "source": [
        "#example of reduce function\n",
        "from functools import reduce\n",
        "numbers = [1,2,3,4,5]\n",
        "product = reduce(lambda x,y: x*y, numbers)\n",
        "print(product)"
      ],
      "metadata": {
        "colab": {
          "base_uri": "https://localhost:8080/"
        },
        "id": "3H1Nzyiy4M7K",
        "outputId": "84e670e5-fa43-4392-b6d5-243fd684b28a"
      },
      "execution_count": null,
      "outputs": [
        {
          "output_type": "stream",
          "name": "stdout",
          "text": [
            "120\n"
          ]
        }
      ]
    },
    {
      "cell_type": "code",
      "source": [
        "#example of filter function\n",
        "numbers = [1,2,3,4,5]\n",
        "even_numbers = filter(lambda x: x%2 == 0, numbers)\n",
        "print(list(even_numbers))"
      ],
      "metadata": {
        "colab": {
          "base_uri": "https://localhost:8080/"
        },
        "id": "7f2zcetZ4Rtu",
        "outputId": "23e8af01-12d0-40c7-fb7b-16794a94ead6"
      },
      "execution_count": null,
      "outputs": [
        {
          "output_type": "stream",
          "name": "stdout",
          "text": [
            "[2, 4]\n"
          ]
        }
      ]
    },
    {
      "cell_type": "code",
      "source": [
        "#Q11. Using pen & Paper write the internal mechanism for sum operation using  reduce function on this given\n",
        "list:[47,11,42,13];\n",
        "\n",
        "#example using reduce function of list [47,11,42,13];\n",
        "from functools import reduce\n",
        "numbers = [47,11,42,13]\n",
        "sum_result = reduce(lambda x,y: x+y, numbers)\n",
        "print(sum_result)"
      ],
      "metadata": {
        "colab": {
          "base_uri": "https://localhost:8080/"
        },
        "id": "8Ipbrx6M4hBa",
        "outputId": "a2ce694b-59f6-4080-aca7-8c1d525acd0c"
      },
      "execution_count": null,
      "outputs": [
        {
          "output_type": "stream",
          "name": "stdout",
          "text": [
            "113\n"
          ]
        }
      ]
    }
  ]
}